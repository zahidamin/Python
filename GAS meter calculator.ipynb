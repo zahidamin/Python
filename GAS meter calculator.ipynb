{
 "cells": [
  {
   "cell_type": "code",
   "execution_count": 2,
   "metadata": {},
   "outputs": [
    {
     "name": "stdout",
     "output_type": "stream",
     "text": [
      "Please enter your previous reading: 7197000\n",
      "Please enter your current reading: 7262743\n",
      "Amount: 509.68509867\n"
     ]
    }
   ],
   "source": [
    "previous_reading = int(input(\"Please enter your previous reading: \"))\n",
    "current_reading = int(input(\"Please enter your current reading: \"))\n",
    "difference = current_reading - previous_reading\n",
    "factor = 1.0505\n",
    "gcv = 1057\n",
    "fix = 281.7385\n",
    "hm3 = difference * factor / 100000\n",
    "mmbtu = hm3 * gcv / fix\n",
    "if mmbtu <= 0.5:\n",
    "    price = 121\n",
    "    print(\"Amount:\",hm3*price)\n",
    "elif mmbtu <= 1.00:\n",
    "    price = 300\n",
    "    print(\"Amount:\",hm3*price)\n",
    "elif mmbtu <= 2.00:\n",
    "    price = 553\n",
    "    print(\"Amount:\",hm3*price)\n",
    "elif mmbtu <= 3.00:\n",
    "    price = 738\n",
    "    print(\"Amount:\",hm3*price)\n",
    "elif mmbtu <= 4.00:\n",
    "    price = 1107\n",
    "    print(\"Amount:\",hm3*price)\n",
    "elif mmbtu > 4.00:\n",
    "    price = 1460\n",
    "    print(\"Amount:\",hm3*price)\n",
    "else:\n",
    "    print(\"Amount is zero\")"
   ]
  },
  {
   "cell_type": "code",
   "execution_count": 1,
   "metadata": {},
   "outputs": [
    {
     "name": "stdout",
     "output_type": "stream",
     "text": [
      "Please enter your previous reading: 7032500\n",
      "Please enter your current reading: 7197000\n",
      "Amount: 2522.98585\n"
     ]
    }
   ],
   "source": [
    "previous_reading = int(input(\"Please enter your previous reading: \"))\n",
    "current_reading = int(input(\"Please enter your current reading: \"))\n",
    "difference = current_reading - previous_reading\n",
    "factor = 1.0505\n",
    "gcv = 1057\n",
    "fix = 281.7385\n",
    "hm3 = difference * factor / 100000\n",
    "mmbtu = hm3 * gcv / fix\n",
    "if mmbtu <= 0.5:\n",
    "    price = 121\n",
    "    print(\"Amount:\",hm3*price)\n",
    "elif mmbtu <= 1.00:\n",
    "    price = 300\n",
    "    print(\"Amount:\",hm3*price)\n",
    "elif mmbtu <= 2.00:\n",
    "    price = 553\n",
    "    print(\"Amount:\",hm3*price)\n",
    "elif mmbtu <= 3.00:\n",
    "    price = 738\n",
    "    print(\"Amount:\",hm3*price)\n",
    "elif mmbtu <= 4.00:\n",
    "    price = 1107\n",
    "    print(\"Amount:\",hm3*price)\n",
    "elif mmbtu > 4.00:\n",
    "    price = 1460\n",
    "    print(\"Amount:\",hm3*price)\n",
    "else:\n",
    "    print(\"Amount is zero\")"
   ]
  },
  {
   "cell_type": "code",
   "execution_count": 4,
   "metadata": {},
   "outputs": [
    {
     "name": "stdout",
     "output_type": "stream",
     "text": [
      "Please enter your previous reading: 7032500\n",
      "Please enter your current reading: 7197000\n",
      "Factor: 1.0505\n",
      "Amount: 2522.98585\n"
     ]
    }
   ],
   "source": [
    "previous_reading = int(input(\"Please enter your previous reading: \"))\n",
    "current_reading = int(input(\"Please enter your current reading: \"))\n",
    "difference = current_reading - previous_reading\n",
    "factor = float(input(\"Factor: \"))\n",
    "gcv = 1057\n",
    "fix = 281.7385\n",
    "hm3 = difference * factor / 100000\n",
    "mmbtu = hm3 * gcv / fix\n",
    "if mmbtu <= 0.5:\n",
    "    price = 121\n",
    "    print(\"Amount:\",hm3*price)\n",
    "elif mmbtu <= 1.00:\n",
    "    price = 300\n",
    "    print(\"Amount:\",hm3*price)\n",
    "elif mmbtu <= 2.00:\n",
    "    price = 553\n",
    "    print(\"Amount:\",hm3*price)\n",
    "elif mmbtu <= 3.00:\n",
    "    price = 738\n",
    "    print(\"Amount:\",hm3*price)\n",
    "elif mmbtu <= 4.00:\n",
    "    price = 1107\n",
    "    print(\"Amount:\",hm3*price)\n",
    "elif mmbtu > 4.00:\n",
    "    price = 1460\n",
    "    print(\"Amount:\",hm3*price)\n",
    "else:\n",
    "    print(\"Amount is zero\")"
   ]
  },
  {
   "cell_type": "code",
   "execution_count": 8,
   "metadata": {},
   "outputs": [
    {
     "name": "stdout",
     "output_type": "stream",
     "text": [
      "Please enter your previous reading: 7032500\n",
      "Please enter your current reading: 7197000\n",
      "Factor: 1.0505\n",
      "Amount: 2990.606256851563\n"
     ]
    }
   ],
   "source": [
    "previous_reading = int(input(\"Please enter your previous reading: \"))\n",
    "current_reading = int(input(\"Please enter your current reading: \"))\n",
    "difference = current_reading - previous_reading\n",
    "factor = float(input(\"Factor: \"))\n",
    "gcv = 1057\n",
    "fix = 281.7385\n",
    "hm3 = difference * factor / 100000\n",
    "mmbtu = hm3 * gcv / fix\n",
    "gst = total * 17/100\n",
    "meter_rent = 20\n",
    "if mmbtu <= 0.5:\n",
    "    price = 121\n",
    "    total = hm3*price\n",
    "    print(\"Amount:\",total+gst+meter_rent)\n",
    "elif mmbtu <= 1.00:\n",
    "    price = 300\n",
    "    total = hm3*price\n",
    "    print(\"Amount:\",total+gst+meter_rent)\n",
    "elif mmbtu <= 2.00:\n",
    "    price = 553\n",
    "    total = hm3*price\n",
    "    print(\"Amount:\",total+gst+meter_rent)\n",
    "elif mmbtu <= 3.00:\n",
    "    price = 738\n",
    "    total = hm3*price\n",
    "    print(\"Amount:\",total+gst+meter_rent)\n",
    "elif mmbtu <= 4.00:\n",
    "    price = 1107\n",
    "    total = hm3*price\n",
    "    print(\"Amount:\",total+gst+meter_rent)\n",
    "elif mmbtu > 4.00:\n",
    "    price = 1460\n",
    "    total = hm3*price\n",
    "    print(\"Amount:\",total+gst+meter_rent)\n",
    "else:\n",
    "    print(\"Amount is zero\")"
   ]
  },
  {
   "cell_type": "code",
   "execution_count": null,
   "metadata": {},
   "outputs": [],
   "source": []
  }
 ],
 "metadata": {
  "kernelspec": {
   "display_name": "Python 3",
   "language": "python",
   "name": "python3"
  },
  "language_info": {
   "codemirror_mode": {
    "name": "ipython",
    "version": 3
   },
   "file_extension": ".py",
   "mimetype": "text/x-python",
   "name": "python",
   "nbconvert_exporter": "python",
   "pygments_lexer": "ipython3",
   "version": "3.7.4"
  },
  "widgets": {
   "application/vnd.jupyter.widget-state+json": {
    "state": {},
    "version_major": 2,
    "version_minor": 0
   }
  }
 },
 "nbformat": 4,
 "nbformat_minor": 2
}
