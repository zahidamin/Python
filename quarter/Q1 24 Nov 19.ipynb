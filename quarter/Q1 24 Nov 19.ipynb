{
 "cells": [
  {
   "cell_type": "code",
   "execution_count": 2,
   "metadata": {},
   "outputs": [
    {
     "name": "stdout",
     "output_type": "stream",
     "text": [
      "my name is zahid amin\n"
     ]
    }
   ],
   "source": [
    "print(\"my name is zahid amin\")"
   ]
  },
  {
   "cell_type": "code",
   "execution_count": 8,
   "metadata": {},
   "outputs": [
    {
     "name": "stdout",
     "output_type": "stream",
     "text": [
      "2\n"
     ]
    }
   ],
   "source": [
    "print(2) # int"
   ]
  },
  {
   "cell_type": "code",
   "execution_count": 9,
   "metadata": {},
   "outputs": [
    {
     "name": "stdout",
     "output_type": "stream",
     "text": [
      "2\n"
     ]
    }
   ],
   "source": [
    "print('2')"
   ]
  },
  {
   "cell_type": "code",
   "execution_count": 10,
   "metadata": {},
   "outputs": [
    {
     "name": "stdout",
     "output_type": "stream",
     "text": [
      "my name is zahid\n",
      "my father Amin\n"
     ]
    }
   ],
   "source": [
    "print('my name is zahid') # string\n",
    "print(\"my father Amin\")"
   ]
  },
  {
   "cell_type": "code",
   "execution_count": 11,
   "metadata": {},
   "outputs": [
    {
     "name": "stdout",
     "output_type": "stream",
     "text": [
      "3.2\n"
     ]
    }
   ],
   "source": [
    "print(3.2) # float"
   ]
  },
  {
   "cell_type": "code",
   "execution_count": 12,
   "metadata": {},
   "outputs": [
    {
     "data": {
      "text/plain": [
       "float"
      ]
     },
     "execution_count": 12,
     "metadata": {},
     "output_type": "execute_result"
    }
   ],
   "source": [
    "type(3.2)"
   ]
  },
  {
   "cell_type": "code",
   "execution_count": 13,
   "metadata": {},
   "outputs": [
    {
     "data": {
      "text/plain": [
       "int"
      ]
     },
     "execution_count": 13,
     "metadata": {},
     "output_type": "execute_result"
    }
   ],
   "source": [
    "type(2)"
   ]
  },
  {
   "cell_type": "code",
   "execution_count": 15,
   "metadata": {},
   "outputs": [
    {
     "data": {
      "text/plain": [
       "str"
      ]
     },
     "execution_count": 15,
     "metadata": {},
     "output_type": "execute_result"
    }
   ],
   "source": [
    "type(\"zahid\")"
   ]
  },
  {
   "cell_type": "code",
   "execution_count": 16,
   "metadata": {},
   "outputs": [
    {
     "name": "stdout",
     "output_type": "stream",
     "text": [
      "PIAIC Islamabad ID Card\n",
      "Name : Zahid \n",
      "Father Name: Amin\n",
      "Batch : 3\n",
      "vanue: Behria University Islamabad\n"
     ]
    }
   ],
   "source": [
    "print('''PIAIC Islamabad ID Card\n",
    "Name : Zahid \n",
    "Father Name: Amin\n",
    "Batch : 3\n",
    "vanue: Behria University Islamabad''')"
   ]
  },
  {
   "cell_type": "code",
   "execution_count": 20,
   "metadata": {
    "scrolled": true
   },
   "outputs": [
    {
     "name": "stdout",
     "output_type": "stream",
     "text": [
      "PIAIC Islamabad ID Card\n",
      "Name : Zahid \n",
      "Father Name: Amin\n",
      "Batch : 3\n",
      "vanue: Behria University Islamabad\n"
     ]
    }
   ],
   "source": [
    "PIAIC_ID = '''PIAIC Islamabad ID Card\n",
    "Name : Zahid \n",
    "Father Name: Amin\n",
    "Batch : 3\n",
    "vanue: Behria University Islamabad''' # stored in variable User_ID\n",
    "print(PIAIC_ID)"
   ]
  },
  {
   "cell_type": "code",
   "execution_count": 19,
   "metadata": {},
   "outputs": [
    {
     "name": "stdout",
     "output_type": "stream",
     "text": [
      "zahid amin\n",
      "Noorul Amin\n",
      "3\n",
      "Behria University Islamabad\n"
     ]
    }
   ],
   "source": [
    "name = \"zahid amin\"\n",
    "father_name = \"Noorul Amin\"\n",
    "Batch = 3\n",
    "vanue = \"Behria University Islamabad\"\n",
    "print(name)\n",
    "print(father_name)\n",
    "print(Batch)\n",
    "print(vanue)"
   ]
  },
  {
   "cell_type": "code",
   "execution_count": 21,
   "metadata": {},
   "outputs": [
    {
     "name": "stdout",
     "output_type": "stream",
     "text": [
      "62.5\n"
     ]
    }
   ],
   "source": [
    "weight = 25 # int variable\n",
    "multiplier = 2.5 # float variable\n",
    "print(weight * multiplier)"
   ]
  },
  {
   "cell_type": "code",
   "execution_count": 22,
   "metadata": {},
   "outputs": [
    {
     "name": "stdout",
     "output_type": "stream",
     "text": [
      "62.5\n"
     ]
    }
   ],
   "source": [
    "weight = 25 # int variable\n",
    "multiplier = 2.5 # float variable\n",
    "Multi_Weight = weight * multiplier\n",
    "print(Multi_Weight)"
   ]
  },
  {
   "cell_type": "code",
   "execution_count": null,
   "metadata": {},
   "outputs": [],
   "source": []
  }
 ],
 "metadata": {
  "kernelspec": {
   "display_name": "Python 3",
   "language": "python",
   "name": "python3"
  },
  "language_info": {
   "codemirror_mode": {
    "name": "ipython",
    "version": 3
   },
   "file_extension": ".py",
   "mimetype": "text/x-python",
   "name": "python",
   "nbconvert_exporter": "python",
   "pygments_lexer": "ipython3",
   "version": "3.7.4"
  }
 },
 "nbformat": 4,
 "nbformat_minor": 2
}
